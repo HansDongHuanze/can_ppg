{
 "cells": [
  {
   "cell_type": "code",
   "execution_count": 1,
   "id": "ac30f9e0",
   "metadata": {},
   "outputs": [],
   "source": [
    "# 使用伪码表生成wave从而得到对比训练集，防止恒正运算\n",
    "# server给subject提供一个伪码表，subject利用伪码表生成对应的对照集\n",
    "# 伪码与最终的hash key或者BCH code无关\n",
    "# 判别器需要保留一定的分辨能力\n",
    "# data index range [2, 66]\n",
    "import torch\n",
    "import torch.nn as nn\n",
    "from torch.nn import *\n",
    "import torch.nn.functional as F\n",
    "import torch.optim as optim\n",
    "import numpy as np\n",
    "import matplotlib.pyplot as plt\n",
    "from tqdm import tqdm\n",
    "import random\n",
    "import os\n",
    "\n",
    "from torch.utils.data.dataset import Dataset\n",
    "from torch.utils.data.dataloader import DataLoader\n",
    "\n",
    "from preprocess import Process"
   ]
  },
  {
   "cell_type": "code",
   "execution_count": 2,
   "id": "8cd8207f",
   "metadata": {},
   "outputs": [],
   "source": [
    "#定义生成器\n",
    "class Generator(nn.Module):\n",
    "    def __init__(self, subject_num):\n",
    "        super(Generator,self).__init__()\n",
    "        self.linear1 = nn.Linear(100,512)\n",
    "        self.bn1=nn.BatchNorm1d(512)\n",
    "        self.subject_num = subject_num\n",
    "        self.linear2 = nn.Linear(subject_num,512)\n",
    "        self.bn2=nn.BatchNorm1d(512)\n",
    "        \n",
    "        self.deconv1 = nn.Conv1d(1, 3, kernel_size=2, padding='same')\n",
    "        self.bn3=nn.BatchNorm1d(3)\n",
    "        self.deconv2 = nn.Conv1d(3, 6, kernel_size=2, padding='same')\n",
    "        self.bn4=nn.BatchNorm1d(6)\n",
    "        self.deconv3 = nn.Conv1d(6, 1, kernel_size=2, padding='same')\n",
    "        \n",
    "    def forward(self,x1,x2):\n",
    "        x1=F.relu(self.linear1(x1.to(torch.float64)))\n",
    "        x1=self.bn1(x1)\n",
    "        x2=F.relu(self.linear2(x2))\n",
    "        x2=self.bn2(x2)\n",
    "        x=torch.cat([x1,x2],axis=1)\n",
    "        x=F.relu(self.deconv1(torch.reshape(x, (x.size(0), 1, x.size(1)))))\n",
    "        x=self.bn3(x)\n",
    "        x=F.relu(self.deconv2(x))\n",
    "        x=self.bn4(x)\n",
    "        x=torch.tanh(self.deconv3(x))\n",
    "        return x"
   ]
  },
  {
   "cell_type": "code",
   "execution_count": 3,
   "id": "aef52634",
   "metadata": {},
   "outputs": [],
   "source": [
    "#设备的配置\n",
    "device='cuda' if torch.cuda.is_available() else 'cpu'\n",
    "gen = torch.load(\"generator\").to(device)"
   ]
  },
  {
   "cell_type": "code",
   "execution_count": 4,
   "id": "2f43f2ca",
   "metadata": {},
   "outputs": [],
   "source": [
    "labels = np.zeros((54, 54), dtype='double')\n",
    "for i in range(54):\n",
    "    labels[i][i] = 1.0\n",
    "labels = torch.tensor(labels).to(device)"
   ]
  },
  {
   "cell_type": "code",
   "execution_count": 5,
   "id": "b7986d63",
   "metadata": {},
   "outputs": [],
   "source": [
    "random_seed = torch.randn(54,100,device=device)"
   ]
  },
  {
   "cell_type": "code",
   "execution_count": 6,
   "id": "aa825d79",
   "metadata": {},
   "outputs": [
    {
     "name": "stderr",
     "output_type": "stream",
     "text": [
      "/home/dhz/anaconda3/lib/python3.9/site-packages/torch/nn/modules/conv.py:309: UserWarning: Using padding='same' with even kernel lengths and odd dilation may require a zero-padded copy of the input be created (Triggered internally at ../aten/src/ATen/native/Convolution.cpp:895.)\n",
      "  return F.conv1d(input, weight, bias, self.stride,\n"
     ]
    }
   ],
   "source": [
    "comp_data = gen(random_seed, labels)"
   ]
  },
  {
   "cell_type": "code",
   "execution_count": 7,
   "id": "dc5ea32f",
   "metadata": {},
   "outputs": [
    {
     "data": {
      "text/plain": [
       "torch.Size([54, 1, 1024])"
      ]
     },
     "execution_count": 7,
     "metadata": {},
     "output_type": "execute_result"
    }
   ],
   "source": [
    "comp_data.shape"
   ]
  },
  {
   "cell_type": "code",
   "execution_count": 8,
   "id": "39ab7d2a",
   "metadata": {},
   "outputs": [],
   "source": [
    "series = []\n",
    "items = 3\n",
    "step = 3\n",
    "subject_num = 0\n",
    "\n",
    "try:\n",
    "    series += Process(2).prepro(1024, step, items)\n",
    "    subject_num += 1\n",
    "except:\n",
    "    print(f'subject {num} abandoned')"
   ]
  },
  {
   "cell_type": "code",
   "execution_count": 9,
   "id": "813e613f",
   "metadata": {},
   "outputs": [],
   "source": [
    "target = torch.reshape(torch.tensor(series).to(device), (items, 1, 1024))"
   ]
  },
  {
   "cell_type": "code",
   "execution_count": 10,
   "id": "3945eb15",
   "metadata": {},
   "outputs": [],
   "source": [
    "in_data = torch.cat([comp_data, target], 0)"
   ]
  },
  {
   "cell_type": "code",
   "execution_count": 11,
   "id": "3c72c5a5",
   "metadata": {},
   "outputs": [
    {
     "data": {
      "text/plain": [
       "torch.Size([57, 1, 1024])"
      ]
     },
     "execution_count": 11,
     "metadata": {},
     "output_type": "execute_result"
    }
   ],
   "source": [
    "in_data.shape"
   ]
  },
  {
   "cell_type": "code",
   "execution_count": 12,
   "id": "c924cd09",
   "metadata": {},
   "outputs": [],
   "source": [
    "comp_label = np.zeros((54,1), dtype='double')\n",
    "comp_label = torch.tensor(comp_label).to(device)"
   ]
  },
  {
   "cell_type": "code",
   "execution_count": 13,
   "id": "d3514c40",
   "metadata": {},
   "outputs": [],
   "source": [
    "true_label = np.ones((3,1), dtype='double')\n",
    "true_label = torch.tensor(true_label).to(device)"
   ]
  },
  {
   "cell_type": "code",
   "execution_count": 14,
   "id": "f9e6755d",
   "metadata": {},
   "outputs": [],
   "source": [
    "in_label = torch.cat([comp_label, true_label], 0)"
   ]
  },
  {
   "cell_type": "code",
   "execution_count": 15,
   "id": "c9ed3e39",
   "metadata": {},
   "outputs": [],
   "source": [
    "class MyDataset(Dataset):\n",
    "    def __init__(self, sig, label):\n",
    "        self.sig = sig\n",
    "        self.label = label\n",
    "\n",
    "    # need to overload\n",
    "    def __len__(self):\n",
    "        return self.sig.size(0)\n",
    "\n",
    "    # need to overload\n",
    "    def __getitem__(self, idx):\n",
    "        return self.sig[idx], self.label[idx]"
   ]
  },
  {
   "cell_type": "code",
   "execution_count": 16,
   "id": "8d21b1c6",
   "metadata": {},
   "outputs": [],
   "source": [
    "dataset = MyDataset(in_data, in_label)\n",
    "dataloader = torch.utils.data.DataLoader(dataset,batch_size=4)"
   ]
  },
  {
   "cell_type": "code",
   "execution_count": 17,
   "id": "be2dfd6a",
   "metadata": {},
   "outputs": [],
   "source": [
    "class ConvolutionBlock(nn.Module):\n",
    "    def __init__(self, input_size, hidden_size):\n",
    "        super(ConvolutionBlock, self).__init__()\n",
    "        self.block = nn.Sequential(nn.Conv1d(input_size, hidden_size, kernel_size=3, padding=1),\n",
    "            nn.BatchNorm1d(hidden_size),\n",
    "            nn.ReLU(),\n",
    "            nn.Conv1d(hidden_size, hidden_size, kernel_size=3, padding=1),\n",
    "            nn.BatchNorm1d(hidden_size),\n",
    "            nn.ReLU()\n",
    "        )\n",
    "        \n",
    "    def forward(self, x):\n",
    "        x = self.block(x)\n",
    "        return x"
   ]
  },
  {
   "cell_type": "code",
   "execution_count": 18,
   "id": "22f3b750",
   "metadata": {},
   "outputs": [],
   "source": [
    "class TransformerClassifier(nn.Module):\n",
    "    def __init__(self, input_size, hidden_size, num_classes, num_layers, num_heads, dropout, num_conv_blocks):\n",
    "        super(TransformerClassifier, self).__init__()\n",
    "        self.conv1 = ConvolutionBlock(input_size, hidden_size)\n",
    "        self.conv_blocks = nn.ModuleList([\n",
    "            ConvolutionBlock(hidden_size, hidden_size) for _ in range(num_conv_blocks)\n",
    "        ])\n",
    "        self.transformer = nn.TransformerEncoder(\n",
    "            nn.TransformerEncoderLayer(hidden_size, num_heads, dim_feedforward=hidden_size, dropout=dropout),\n",
    "            num_layers\n",
    "        )\n",
    "        self.fc = nn.Linear(hidden_size, num_classes)\n",
    "\n",
    "    def forward(self, x):\n",
    "        x = self.conv1(x)\n",
    "        for conv_block in self.conv_blocks:\n",
    "            x = conv_block(x)\n",
    "        x = x.permute(0, 2, 1)  # Reshape to (batch_size, hidden_size, seq_len)\n",
    "        x = self.transformer(x)\n",
    "        x = x.mean(dim=1)  # Average the sequence dimension\n",
    "        x = torch.sigmoid(self.fc(x))\n",
    "        return x"
   ]
  },
  {
   "cell_type": "code",
   "execution_count": 19,
   "id": "7aa45e87",
   "metadata": {},
   "outputs": [],
   "source": [
    "# Example usage\n",
    "input_size = 1\n",
    "hidden_size = 128\n",
    "num_classes = 1\n",
    "num_layers = 6\n",
    "num_heads = 4\n",
    "dropout = 0.2\n",
    "batch_size = 4\n",
    "num_epochs = 10\n",
    "num_conv_blocks = 2"
   ]
  },
  {
   "cell_type": "code",
   "execution_count": 20,
   "id": "fe01ab92",
   "metadata": {},
   "outputs": [],
   "source": [
    "cls = TransformerClassifier(input_size, hidden_size, num_classes, num_layers, num_heads, dropout, num_conv_blocks).to(device)\n",
    "cls = cls.double()"
   ]
  },
  {
   "cell_type": "code",
   "execution_count": 21,
   "id": "0ed06d12",
   "metadata": {},
   "outputs": [],
   "source": [
    "criterion = nn.BCELoss()\n",
    "optimizer = optim.Adam(cls.parameters(), lr=1e-6)"
   ]
  },
  {
   "cell_type": "code",
   "execution_count": 22,
   "id": "e1952c68",
   "metadata": {},
   "outputs": [],
   "source": [
    "C_loss = []\n",
    "C_acc = []"
   ]
  },
  {
   "cell_type": "code",
   "execution_count": 23,
   "id": "168efcb1",
   "metadata": {},
   "outputs": [
    {
     "name": "stderr",
     "output_type": "stream",
     "text": [
      "Training Epoch 1: 100%|█████████████| 15/15 [00:01<00:00, 13.97it/s, c_loss=9.51179, accuracy=0.947]\n",
      "Training Epoch 2: 100%|█████████████| 15/15 [00:00<00:00, 16.14it/s, c_loss=9.20270, accuracy=0.947]\n",
      "Training Epoch 3: 100%|█████████████| 15/15 [00:00<00:00, 16.06it/s, c_loss=8.85879, accuracy=0.947]\n",
      "Training Epoch 4: 100%|█████████████| 15/15 [00:00<00:00, 16.09it/s, c_loss=8.48047, accuracy=0.947]\n",
      "Training Epoch 5: 100%|█████████████| 15/15 [00:00<00:00, 16.04it/s, c_loss=8.10233, accuracy=0.947]\n",
      "Training Epoch 6: 100%|█████████████| 15/15 [00:00<00:00, 16.08it/s, c_loss=7.75870, accuracy=0.947]\n",
      "Training Epoch 7: 100%|█████████████| 15/15 [00:00<00:00, 16.02it/s, c_loss=7.41715, accuracy=0.947]\n",
      "Training Epoch 8: 100%|█████████████| 15/15 [00:00<00:00, 15.92it/s, c_loss=7.10382, accuracy=0.947]\n",
      "Training Epoch 9: 100%|█████████████| 15/15 [00:00<00:00, 15.97it/s, c_loss=6.81637, accuracy=0.947]\n",
      "Training Epoch 10: 100%|████████████| 15/15 [00:00<00:00, 15.98it/s, c_loss=6.53481, accuracy=0.947]\n",
      "Training Epoch 11: 100%|████████████| 15/15 [00:00<00:00, 15.90it/s, c_loss=6.27175, accuracy=0.947]\n",
      "Training Epoch 12: 100%|████████████| 15/15 [00:00<00:00, 15.99it/s, c_loss=6.05137, accuracy=0.947]\n",
      "Training Epoch 13: 100%|████████████| 15/15 [00:00<00:00, 16.02it/s, c_loss=5.83315, accuracy=0.947]\n",
      "Training Epoch 14: 100%|████████████| 15/15 [00:00<00:00, 15.99it/s, c_loss=5.64430, accuracy=0.947]\n",
      "Training Epoch 15: 100%|████████████| 15/15 [00:00<00:00, 15.80it/s, c_loss=5.45880, accuracy=0.947]\n",
      "Training Epoch 16: 100%|████████████| 15/15 [00:00<00:00, 15.95it/s, c_loss=5.28842, accuracy=0.947]\n",
      "Training Epoch 17: 100%|████████████| 15/15 [00:00<00:00, 15.91it/s, c_loss=5.12515, accuracy=0.947]\n",
      "Training Epoch 18: 100%|████████████| 15/15 [00:00<00:00, 15.97it/s, c_loss=4.97479, accuracy=0.947]\n",
      "Training Epoch 19: 100%|████████████| 15/15 [00:00<00:00, 15.91it/s, c_loss=4.84921, accuracy=0.947]\n",
      "Training Epoch 20: 100%|████████████| 15/15 [00:00<00:00, 15.99it/s, c_loss=4.72596, accuracy=0.947]\n",
      "Training Epoch 21: 100%|████████████| 15/15 [00:00<00:00, 15.80it/s, c_loss=4.60570, accuracy=0.947]\n",
      "Training Epoch 22: 100%|████████████| 15/15 [00:00<00:00, 15.98it/s, c_loss=4.51089, accuracy=0.947]\n",
      "Training Epoch 23: 100%|████████████| 15/15 [00:00<00:00, 15.98it/s, c_loss=4.40431, accuracy=0.947]\n",
      "Training Epoch 24: 100%|████████████| 15/15 [00:00<00:00, 15.89it/s, c_loss=4.31279, accuracy=0.947]\n",
      "Training Epoch 25: 100%|████████████| 15/15 [00:00<00:00, 15.81it/s, c_loss=4.21318, accuracy=0.947]\n",
      "Training Epoch 26: 100%|████████████| 15/15 [00:00<00:00, 15.84it/s, c_loss=4.13795, accuracy=0.947]\n",
      "Training Epoch 27: 100%|████████████| 15/15 [00:00<00:00, 16.06it/s, c_loss=4.05822, accuracy=0.947]\n",
      "Training Epoch 28: 100%|████████████| 15/15 [00:00<00:00, 16.12it/s, c_loss=3.99971, accuracy=0.947]\n",
      "Training Epoch 29: 100%|████████████| 15/15 [00:00<00:00, 16.16it/s, c_loss=3.92074, accuracy=0.947]\n",
      "Training Epoch 30: 100%|████████████| 15/15 [00:00<00:00, 16.20it/s, c_loss=3.86704, accuracy=0.947]\n",
      "Training Epoch 31: 100%|████████████| 15/15 [00:00<00:00, 16.00it/s, c_loss=3.80649, accuracy=0.947]\n",
      "Training Epoch 32: 100%|████████████| 15/15 [00:00<00:00, 16.15it/s, c_loss=3.75775, accuracy=0.947]\n",
      "Training Epoch 33: 100%|████████████| 15/15 [00:00<00:00, 16.06it/s, c_loss=3.69068, accuracy=0.947]\n",
      "Training Epoch 34: 100%|████████████| 15/15 [00:00<00:00, 16.01it/s, c_loss=3.65393, accuracy=0.947]\n",
      "Training Epoch 35: 100%|████████████| 15/15 [00:00<00:00, 15.99it/s, c_loss=3.60153, accuracy=0.947]\n",
      "Training Epoch 36: 100%|████████████| 15/15 [00:00<00:00, 16.14it/s, c_loss=3.56018, accuracy=0.947]\n",
      "Training Epoch 37: 100%|████████████| 15/15 [00:00<00:00, 16.14it/s, c_loss=3.51077, accuracy=0.947]\n",
      "Training Epoch 38: 100%|████████████| 15/15 [00:00<00:00, 16.10it/s, c_loss=3.47114, accuracy=0.947]\n",
      "Training Epoch 39: 100%|████████████| 15/15 [00:00<00:00, 16.14it/s, c_loss=3.42205, accuracy=0.947]\n",
      "Training Epoch 40: 100%|████████████| 15/15 [00:00<00:00, 15.98it/s, c_loss=3.39457, accuracy=0.947]\n",
      "Training Epoch 41: 100%|████████████| 15/15 [00:00<00:00, 15.98it/s, c_loss=3.35915, accuracy=0.947]\n",
      "Training Epoch 42: 100%|████████████| 15/15 [00:00<00:00, 15.99it/s, c_loss=3.32392, accuracy=0.947]\n",
      "Training Epoch 43: 100%|████████████| 15/15 [00:00<00:00, 16.09it/s, c_loss=3.29912, accuracy=0.947]\n",
      "Training Epoch 44: 100%|████████████| 15/15 [00:00<00:00, 16.04it/s, c_loss=3.26068, accuracy=0.947]\n",
      "Training Epoch 45: 100%|████████████| 15/15 [00:00<00:00, 15.99it/s, c_loss=3.24136, accuracy=0.947]\n",
      "Training Epoch 46: 100%|████████████| 15/15 [00:00<00:00, 16.07it/s, c_loss=3.19860, accuracy=0.947]\n",
      "Training Epoch 47: 100%|████████████| 15/15 [00:00<00:00, 15.90it/s, c_loss=3.17366, accuracy=0.947]\n",
      "Training Epoch 48: 100%|████████████| 15/15 [00:00<00:00, 16.06it/s, c_loss=3.14837, accuracy=0.947]\n",
      "Training Epoch 49: 100%|████████████| 15/15 [00:00<00:00, 15.97it/s, c_loss=3.11518, accuracy=0.947]\n",
      "Training Epoch 50: 100%|████████████| 15/15 [00:00<00:00, 15.94it/s, c_loss=3.08730, accuracy=0.947]\n",
      "Training Epoch 51: 100%|████████████| 15/15 [00:00<00:00, 15.95it/s, c_loss=3.06846, accuracy=0.947]\n",
      "Training Epoch 52: 100%|████████████| 15/15 [00:00<00:00, 16.00it/s, c_loss=3.02997, accuracy=0.947]\n",
      "Training Epoch 53: 100%|████████████| 15/15 [00:00<00:00, 16.02it/s, c_loss=3.01988, accuracy=0.947]\n",
      "Training Epoch 54: 100%|████████████| 15/15 [00:00<00:00, 16.01it/s, c_loss=2.98461, accuracy=0.947]\n",
      "Training Epoch 55: 100%|████████████| 15/15 [00:00<00:00, 16.04it/s, c_loss=2.97569, accuracy=0.947]\n",
      "Training Epoch 56: 100%|████████████| 15/15 [00:00<00:00, 16.08it/s, c_loss=2.95699, accuracy=0.947]\n",
      "Training Epoch 57: 100%|████████████| 15/15 [00:00<00:00, 15.98it/s, c_loss=2.91800, accuracy=0.947]\n",
      "Training Epoch 58: 100%|████████████| 15/15 [00:00<00:00, 15.93it/s, c_loss=2.89941, accuracy=0.947]\n",
      "Training Epoch 59: 100%|████████████| 15/15 [00:00<00:00, 15.88it/s, c_loss=2.86750, accuracy=0.947]\n",
      "Training Epoch 60: 100%|████████████| 15/15 [00:00<00:00, 15.94it/s, c_loss=2.85358, accuracy=0.947]\n",
      "Training Epoch 61: 100%|████████████| 15/15 [00:00<00:00, 15.87it/s, c_loss=2.82169, accuracy=0.947]\n",
      "Training Epoch 62: 100%|████████████| 15/15 [00:00<00:00, 15.93it/s, c_loss=2.80824, accuracy=0.947]\n",
      "Training Epoch 63: 100%|████████████| 15/15 [00:00<00:00, 16.01it/s, c_loss=2.78218, accuracy=0.947]\n",
      "Training Epoch 64: 100%|████████████| 15/15 [00:00<00:00, 15.93it/s, c_loss=2.77023, accuracy=0.947]\n",
      "Training Epoch 65: 100%|████████████| 15/15 [00:00<00:00, 15.86it/s, c_loss=2.75101, accuracy=0.947]\n",
      "Training Epoch 66: 100%|████████████| 15/15 [00:00<00:00, 15.99it/s, c_loss=2.71343, accuracy=0.947]\n",
      "Training Epoch 67: 100%|████████████| 15/15 [00:00<00:00, 15.95it/s, c_loss=2.69692, accuracy=0.947]\n",
      "Training Epoch 68: 100%|████████████| 15/15 [00:00<00:00, 15.90it/s, c_loss=2.66804, accuracy=0.947]\n",
      "Training Epoch 69: 100%|████████████| 15/15 [00:00<00:00, 15.89it/s, c_loss=2.64333, accuracy=0.947]\n",
      "Training Epoch 70: 100%|████████████| 15/15 [00:00<00:00, 15.98it/s, c_loss=2.62131, accuracy=0.947]\n",
      "Training Epoch 71: 100%|████████████| 15/15 [00:00<00:00, 16.08it/s, c_loss=2.60008, accuracy=0.947]\n",
      "Training Epoch 72: 100%|████████████| 15/15 [00:00<00:00, 15.84it/s, c_loss=2.57065, accuracy=0.947]\n",
      "Training Epoch 73: 100%|████████████| 15/15 [00:00<00:00, 15.88it/s, c_loss=2.55390, accuracy=0.947]\n",
      "Training Epoch 74: 100%|████████████| 15/15 [00:00<00:00, 15.84it/s, c_loss=2.53492, accuracy=0.947]\n",
      "Training Epoch 75: 100%|████████████| 15/15 [00:00<00:00, 15.88it/s, c_loss=2.50827, accuracy=0.947]\n",
      "Training Epoch 76: 100%|████████████| 15/15 [00:00<00:00, 15.84it/s, c_loss=2.48583, accuracy=0.947]\n",
      "Training Epoch 77: 100%|████████████| 15/15 [00:00<00:00, 15.91it/s, c_loss=2.46424, accuracy=0.947]\n",
      "Training Epoch 78: 100%|████████████| 15/15 [00:00<00:00, 16.01it/s, c_loss=2.43292, accuracy=0.947]\n",
      "Training Epoch 79: 100%|████████████| 15/15 [00:00<00:00, 15.84it/s, c_loss=2.41397, accuracy=0.947]\n",
      "Training Epoch 80: 100%|████████████| 15/15 [00:00<00:00, 15.90it/s, c_loss=2.38741, accuracy=0.947]\n",
      "Training Epoch 81: 100%|████████████| 15/15 [00:00<00:00, 15.84it/s, c_loss=2.35870, accuracy=0.947]\n"
     ]
    },
    {
     "name": "stderr",
     "output_type": "stream",
     "text": [
      "Training Epoch 82: 100%|████████████| 15/15 [00:00<00:00, 15.91it/s, c_loss=2.33070, accuracy=0.947]\n",
      "Training Epoch 83: 100%|████████████| 15/15 [00:00<00:00, 15.86it/s, c_loss=2.30158, accuracy=0.947]\n",
      "Training Epoch 84: 100%|████████████| 15/15 [00:00<00:00, 15.81it/s, c_loss=2.26870, accuracy=0.965]\n",
      "Training Epoch 85: 100%|████████████| 15/15 [00:00<00:00, 15.87it/s, c_loss=2.26314, accuracy=0.965]\n",
      "Training Epoch 86: 100%|████████████| 15/15 [00:00<00:00, 15.75it/s, c_loss=2.23005, accuracy=0.965]\n",
      "Training Epoch 87: 100%|████████████| 15/15 [00:00<00:00, 15.87it/s, c_loss=2.19819, accuracy=0.965]\n",
      "Training Epoch 88: 100%|████████████| 15/15 [00:00<00:00, 15.79it/s, c_loss=2.17725, accuracy=0.965]\n",
      "Training Epoch 89: 100%|████████████| 15/15 [00:00<00:00, 15.79it/s, c_loss=2.13981, accuracy=0.965]\n",
      "Training Epoch 90: 100%|████████████| 15/15 [00:00<00:00, 15.74it/s, c_loss=2.10843, accuracy=0.965]\n",
      "Training Epoch 91: 100%|████████████| 15/15 [00:00<00:00, 15.85it/s, c_loss=2.07790, accuracy=0.965]\n",
      "Training Epoch 92: 100%|████████████| 15/15 [00:00<00:00, 15.95it/s, c_loss=2.04561, accuracy=0.965]\n",
      "Training Epoch 93: 100%|████████████| 15/15 [00:00<00:00, 15.86it/s, c_loss=2.02133, accuracy=0.965]\n",
      "Training Epoch 94: 100%|████████████| 15/15 [00:00<00:00, 15.85it/s, c_loss=1.98851, accuracy=0.965]\n",
      "Training Epoch 95: 100%|████████████| 15/15 [00:00<00:00, 15.81it/s, c_loss=1.95417, accuracy=0.965]\n",
      "Training Epoch 96: 100%|████████████| 15/15 [00:00<00:00, 15.84it/s, c_loss=1.92234, accuracy=0.965]\n",
      "Training Epoch 97: 100%|████████████| 15/15 [00:00<00:00, 15.82it/s, c_loss=1.89267, accuracy=0.965]\n",
      "Training Epoch 98: 100%|████████████| 15/15 [00:00<00:00, 15.85it/s, c_loss=1.86314, accuracy=0.965]\n",
      "Training Epoch 99: 100%|████████████| 15/15 [00:00<00:00, 15.87it/s, c_loss=1.83183, accuracy=0.965]\n",
      "Training Epoch 100: 100%|███████████| 15/15 [00:00<00:00, 15.81it/s, c_loss=1.79696, accuracy=0.965]\n",
      "Training Epoch 101: 100%|███████████| 15/15 [00:00<00:00, 15.91it/s, c_loss=1.77537, accuracy=0.965]\n",
      "Training Epoch 102: 100%|███████████| 15/15 [00:00<00:00, 15.96it/s, c_loss=1.73315, accuracy=0.965]\n",
      "Training Epoch 103: 100%|███████████| 15/15 [00:00<00:00, 15.96it/s, c_loss=1.69984, accuracy=0.965]\n",
      "Training Epoch 104: 100%|███████████| 15/15 [00:00<00:00, 15.75it/s, c_loss=1.67747, accuracy=0.965]\n",
      "Training Epoch 105: 100%|███████████| 15/15 [00:00<00:00, 15.83it/s, c_loss=1.63520, accuracy=0.965]\n",
      "Training Epoch 106: 100%|███████████| 15/15 [00:00<00:00, 15.99it/s, c_loss=1.61340, accuracy=0.965]\n",
      "Training Epoch 107: 100%|███████████| 15/15 [00:00<00:00, 15.85it/s, c_loss=1.58781, accuracy=0.965]\n",
      "Training Epoch 108: 100%|███████████| 15/15 [00:00<00:00, 15.84it/s, c_loss=1.56639, accuracy=0.965]\n",
      "Training Epoch 109: 100%|███████████| 15/15 [00:00<00:00, 16.00it/s, c_loss=1.53696, accuracy=0.965]\n",
      "Training Epoch 110: 100%|███████████| 15/15 [00:00<00:00, 15.68it/s, c_loss=1.50912, accuracy=0.965]\n",
      "Training Epoch 111: 100%|███████████| 15/15 [00:00<00:00, 15.78it/s, c_loss=1.47629, accuracy=0.965]\n",
      "Training Epoch 112: 100%|███████████| 15/15 [00:00<00:00, 15.76it/s, c_loss=1.46642, accuracy=0.965]\n",
      "Training Epoch 113: 100%|███████████| 15/15 [00:00<00:00, 15.85it/s, c_loss=1.43884, accuracy=0.965]\n",
      "Training Epoch 114: 100%|███████████| 15/15 [00:00<00:00, 15.61it/s, c_loss=1.41355, accuracy=0.965]\n",
      "Training Epoch 115: 100%|███████████| 15/15 [00:00<00:00, 15.81it/s, c_loss=1.39073, accuracy=0.965]\n",
      "Training Epoch 116: 100%|███████████| 15/15 [00:00<00:00, 15.76it/s, c_loss=1.37285, accuracy=0.965]\n",
      "Training Epoch 117: 100%|███████████| 15/15 [00:00<00:00, 15.79it/s, c_loss=1.34968, accuracy=0.965]\n",
      "Training Epoch 118: 100%|███████████| 15/15 [00:00<00:00, 15.71it/s, c_loss=1.32979, accuracy=0.965]\n",
      "Training Epoch 119: 100%|███████████| 15/15 [00:00<00:00, 15.69it/s, c_loss=1.30651, accuracy=0.965]\n",
      "Training Epoch 120: 100%|███████████| 15/15 [00:00<00:00, 15.67it/s, c_loss=1.29358, accuracy=0.965]\n",
      "Training Epoch 121: 100%|███████████| 15/15 [00:00<00:00, 15.81it/s, c_loss=1.26299, accuracy=0.965]\n",
      "Training Epoch 122: 100%|███████████| 15/15 [00:00<00:00, 15.82it/s, c_loss=1.24759, accuracy=0.965]\n",
      "Training Epoch 123: 100%|███████████| 15/15 [00:00<00:00, 15.90it/s, c_loss=1.23440, accuracy=0.965]\n",
      "Training Epoch 124: 100%|███████████| 15/15 [00:00<00:00, 16.00it/s, c_loss=1.21511, accuracy=0.965]\n",
      "Training Epoch 125: 100%|███████████| 15/15 [00:00<00:00, 16.00it/s, c_loss=1.19364, accuracy=0.965]\n",
      "Training Epoch 126: 100%|███████████| 15/15 [00:00<00:00, 16.01it/s, c_loss=1.17723, accuracy=0.965]\n",
      "Training Epoch 127: 100%|███████████| 15/15 [00:00<00:00, 16.00it/s, c_loss=1.16337, accuracy=0.965]\n",
      "Training Epoch 128: 100%|███████████| 15/15 [00:00<00:00, 16.02it/s, c_loss=1.14449, accuracy=0.965]\n",
      "Training Epoch 129: 100%|███████████| 15/15 [00:00<00:00, 16.01it/s, c_loss=1.12838, accuracy=0.965]\n",
      "Training Epoch 130: 100%|███████████| 15/15 [00:00<00:00, 15.88it/s, c_loss=1.11118, accuracy=0.965]\n",
      "Training Epoch 131: 100%|███████████| 15/15 [00:00<00:00, 15.67it/s, c_loss=1.09479, accuracy=0.965]\n",
      "Training Epoch 132: 100%|███████████| 15/15 [00:00<00:00, 15.78it/s, c_loss=1.07670, accuracy=0.965]\n",
      "Training Epoch 133: 100%|███████████| 15/15 [00:00<00:00, 15.75it/s, c_loss=1.05768, accuracy=0.965]\n",
      "Training Epoch 134: 100%|███████████| 15/15 [00:00<00:00, 15.86it/s, c_loss=1.04383, accuracy=0.965]\n",
      "Training Epoch 135: 100%|███████████| 15/15 [00:00<00:00, 15.67it/s, c_loss=1.03194, accuracy=0.965]\n",
      "Training Epoch 136: 100%|███████████| 15/15 [00:00<00:00, 15.71it/s, c_loss=1.01504, accuracy=0.965]\n",
      "Training Epoch 137: 100%|███████████| 15/15 [00:00<00:00, 15.62it/s, c_loss=0.99958, accuracy=0.965]\n",
      "Training Epoch 138: 100%|███████████| 15/15 [00:00<00:00, 15.72it/s, c_loss=0.99087, accuracy=0.965]\n",
      "Training Epoch 139: 100%|███████████| 15/15 [00:00<00:00, 15.82it/s, c_loss=0.97181, accuracy=0.965]\n",
      "Training Epoch 140: 100%|███████████| 15/15 [00:00<00:00, 15.74it/s, c_loss=0.96235, accuracy=0.965]\n",
      "Training Epoch 141: 100%|███████████| 15/15 [00:00<00:00, 15.78it/s, c_loss=0.94778, accuracy=0.965]\n",
      "Training Epoch 142: 100%|███████████| 15/15 [00:00<00:00, 15.56it/s, c_loss=0.93805, accuracy=0.965]\n",
      "Training Epoch 143: 100%|███████████| 15/15 [00:00<00:00, 15.86it/s, c_loss=0.92550, accuracy=0.965]\n",
      "Training Epoch 144: 100%|███████████| 15/15 [00:00<00:00, 15.71it/s, c_loss=0.91901, accuracy=0.965]\n",
      "Training Epoch 145: 100%|███████████| 15/15 [00:00<00:00, 15.71it/s, c_loss=0.91203, accuracy=0.965]\n",
      "Training Epoch 146: 100%|███████████| 15/15 [00:00<00:00, 15.66it/s, c_loss=0.89966, accuracy=0.965]\n",
      "Training Epoch 147: 100%|███████████| 15/15 [00:00<00:00, 15.66it/s, c_loss=0.89132, accuracy=0.965]\n",
      "Training Epoch 148: 100%|███████████| 15/15 [00:00<00:00, 15.72it/s, c_loss=0.88161, accuracy=0.965]\n",
      "Training Epoch 149: 100%|███████████| 15/15 [00:00<00:00, 15.67it/s, c_loss=0.86836, accuracy=0.965]\n",
      "Training Epoch 150: 100%|███████████| 15/15 [00:00<00:00, 15.69it/s, c_loss=0.86528, accuracy=0.965]\n",
      "Training Epoch 151: 100%|███████████| 15/15 [00:00<00:00, 15.65it/s, c_loss=0.85956, accuracy=0.982]\n",
      "Training Epoch 152: 100%|███████████| 15/15 [00:00<00:00, 15.74it/s, c_loss=0.84588, accuracy=1.000]\n",
      "Training Epoch 153: 100%|███████████| 15/15 [00:00<00:00, 15.62it/s, c_loss=0.83797, accuracy=1.000]\n",
      "Training Epoch 154: 100%|███████████| 15/15 [00:00<00:00, 15.67it/s, c_loss=0.82317, accuracy=1.000]\n",
      "Training Epoch 155: 100%|███████████| 15/15 [00:00<00:00, 15.69it/s, c_loss=0.81269, accuracy=1.000]\n",
      "Training Epoch 156: 100%|███████████| 15/15 [00:00<00:00, 15.85it/s, c_loss=0.81243, accuracy=1.000]\n",
      "Training Epoch 157: 100%|███████████| 15/15 [00:00<00:00, 15.81it/s, c_loss=0.79321, accuracy=1.000]\n",
      "Training Epoch 158: 100%|███████████| 15/15 [00:00<00:00, 15.79it/s, c_loss=0.78377, accuracy=1.000]\n",
      "Training Epoch 159: 100%|███████████| 15/15 [00:00<00:00, 15.73it/s, c_loss=0.77505, accuracy=1.000]\n",
      "Training Epoch 160: 100%|███████████| 15/15 [00:00<00:00, 15.84it/s, c_loss=0.76472, accuracy=1.000]\n",
      "Training Epoch 161: 100%|███████████| 15/15 [00:00<00:00, 15.86it/s, c_loss=0.75581, accuracy=1.000]\n",
      "Training Epoch 162: 100%|███████████| 15/15 [00:00<00:00, 15.79it/s, c_loss=0.74427, accuracy=1.000]\n"
     ]
    },
    {
     "name": "stderr",
     "output_type": "stream",
     "text": [
      "Training Epoch 163: 100%|███████████| 15/15 [00:00<00:00, 15.88it/s, c_loss=0.73566, accuracy=1.000]\n",
      "Training Epoch 164: 100%|███████████| 15/15 [00:00<00:00, 15.89it/s, c_loss=0.72603, accuracy=1.000]\n",
      "Training Epoch 165: 100%|███████████| 15/15 [00:00<00:00, 15.66it/s, c_loss=0.71964, accuracy=1.000]\n",
      "Training Epoch 166: 100%|███████████| 15/15 [00:00<00:00, 15.87it/s, c_loss=0.71036, accuracy=1.000]\n",
      "Training Epoch 167: 100%|███████████| 15/15 [00:00<00:00, 15.88it/s, c_loss=0.70068, accuracy=1.000]\n",
      "Training Epoch 168: 100%|███████████| 15/15 [00:00<00:00, 15.87it/s, c_loss=0.68968, accuracy=1.000]\n",
      "Training Epoch 169: 100%|███████████| 15/15 [00:00<00:00, 15.90it/s, c_loss=0.68397, accuracy=1.000]\n",
      "Training Epoch 170: 100%|███████████| 15/15 [00:00<00:00, 15.82it/s, c_loss=0.67724, accuracy=1.000]\n",
      "Training Epoch 171: 100%|███████████| 15/15 [00:00<00:00, 15.74it/s, c_loss=0.66852, accuracy=1.000]\n",
      "Training Epoch 172: 100%|███████████| 15/15 [00:00<00:00, 15.81it/s, c_loss=0.65760, accuracy=1.000]\n",
      "Training Epoch 173: 100%|███████████| 15/15 [00:00<00:00, 15.76it/s, c_loss=0.65192, accuracy=1.000]\n",
      "Training Epoch 174: 100%|███████████| 15/15 [00:00<00:00, 15.90it/s, c_loss=0.63772, accuracy=1.000]\n",
      "Training Epoch 175: 100%|███████████| 15/15 [00:00<00:00, 15.79it/s, c_loss=0.63182, accuracy=1.000]\n",
      "Training Epoch 176: 100%|███████████| 15/15 [00:00<00:00, 15.81it/s, c_loss=0.61578, accuracy=1.000]\n",
      "Training Epoch 177: 100%|███████████| 15/15 [00:00<00:00, 15.81it/s, c_loss=0.60624, accuracy=1.000]\n",
      "Training Epoch 178: 100%|███████████| 15/15 [00:00<00:00, 15.74it/s, c_loss=0.59828, accuracy=1.000]\n",
      "Training Epoch 179: 100%|███████████| 15/15 [00:00<00:00, 15.77it/s, c_loss=0.58761, accuracy=1.000]\n",
      "Training Epoch 180: 100%|███████████| 15/15 [00:00<00:00, 15.74it/s, c_loss=0.57105, accuracy=1.000]\n",
      "Training Epoch 181: 100%|███████████| 15/15 [00:00<00:00, 15.83it/s, c_loss=0.56791, accuracy=1.000]\n",
      "Training Epoch 182: 100%|███████████| 15/15 [00:00<00:00, 15.67it/s, c_loss=0.55400, accuracy=1.000]\n",
      "Training Epoch 183: 100%|███████████| 15/15 [00:00<00:00, 15.81it/s, c_loss=0.55017, accuracy=1.000]\n",
      "Training Epoch 184: 100%|███████████| 15/15 [00:00<00:00, 15.75it/s, c_loss=0.53536, accuracy=1.000]\n",
      "Training Epoch 185: 100%|███████████| 15/15 [00:00<00:00, 15.65it/s, c_loss=0.52992, accuracy=1.000]\n",
      "Training Epoch 186: 100%|███████████| 15/15 [00:00<00:00, 15.72it/s, c_loss=0.51969, accuracy=1.000]\n",
      "Training Epoch 187: 100%|███████████| 15/15 [00:00<00:00, 15.66it/s, c_loss=0.51160, accuracy=1.000]\n",
      "Training Epoch 188: 100%|███████████| 15/15 [00:00<00:00, 15.74it/s, c_loss=0.50283, accuracy=1.000]\n",
      "Training Epoch 189: 100%|███████████| 15/15 [00:00<00:00, 15.78it/s, c_loss=0.49253, accuracy=1.000]\n",
      "Training Epoch 190: 100%|███████████| 15/15 [00:00<00:00, 15.76it/s, c_loss=0.48547, accuracy=1.000]\n",
      "Training Epoch 191: 100%|███████████| 15/15 [00:00<00:00, 15.75it/s, c_loss=0.47290, accuracy=1.000]\n",
      "Training Epoch 192: 100%|███████████| 15/15 [00:00<00:00, 15.58it/s, c_loss=0.46616, accuracy=1.000]\n",
      "Training Epoch 193: 100%|███████████| 15/15 [00:00<00:00, 15.74it/s, c_loss=0.45493, accuracy=1.000]\n",
      "Training Epoch 194: 100%|███████████| 15/15 [00:00<00:00, 15.83it/s, c_loss=0.44440, accuracy=1.000]\n",
      "Training Epoch 195: 100%|███████████| 15/15 [00:00<00:00, 15.65it/s, c_loss=0.43520, accuracy=1.000]\n",
      "Training Epoch 196: 100%|███████████| 15/15 [00:00<00:00, 15.66it/s, c_loss=0.42362, accuracy=1.000]\n",
      "Training Epoch 197: 100%|███████████| 15/15 [00:00<00:00, 15.82it/s, c_loss=0.41687, accuracy=1.000]\n",
      "Training Epoch 198: 100%|███████████| 15/15 [00:00<00:00, 15.76it/s, c_loss=0.40222, accuracy=1.000]\n",
      "Training Epoch 199: 100%|███████████| 15/15 [00:00<00:00, 15.77it/s, c_loss=0.39447, accuracy=1.000]\n",
      "Training Epoch 200: 100%|███████████| 15/15 [00:00<00:00, 15.78it/s, c_loss=0.38302, accuracy=1.000]\n"
     ]
    }
   ],
   "source": [
    "for epoch in range(200):\n",
    "    epoch_iterator = tqdm(dataloader, desc=\"Training Epoch %d\" % (epoch + 1), ncols = 100)\n",
    "    #初始化损失值\n",
    "    c_epoch_loss = 0\n",
    "    acc_num = 0\n",
    "    num = 0\n",
    "    count = len(dataloader) #返回批次数\n",
    "    #对数据集进行迭代\n",
    "    for step, (subject, label) in enumerate(epoch_iterator):\n",
    "        subject = subject.to(device) #把数据放到设备上\n",
    "        label = label.to(device)\n",
    "        size = subject.size(0)\n",
    "        num += size\n",
    "        \n",
    "        class_train = cls(subject.data)\n",
    "        c_loss = criterion(class_train, label.data)\n",
    "        c_loss.backward()\n",
    "        optimizer.step()\n",
    "        \n",
    "        for i in range(subject.size(0)):\n",
    "            idx1 = torch.argmax(class_train[i])\n",
    "            idx2 = torch.argmax(label[i])\n",
    "            if torch.abs(class_train[i] - label[i]) < 0.5:\n",
    "                acc_num += 1\n",
    "        \n",
    "        #累计每一个批次的loss\n",
    "        with torch.no_grad():\n",
    "            c_epoch_loss += c_loss\n",
    "        epoch_iterator.set_postfix({\"c_loss\": '{0:1.5f}'.format(c_epoch_loss), \"accuracy\": '{0:1.3f}'.format(acc_num / num)})\n",
    "        epoch_iterator.update(1)\n",
    "            \n",
    "    #求平均损失\n",
    "    with torch.no_grad():\n",
    "        c_epoch_loss /= count\n",
    "        acc = acc_num / num\n",
    "        C_loss.append(c_epoch_loss)\n",
    "        C_acc.append(acc)"
   ]
  },
  {
   "cell_type": "code",
   "execution_count": null,
   "id": "7247efcb",
   "metadata": {},
   "outputs": [],
   "source": []
  }
 ],
 "metadata": {
  "kernelspec": {
   "display_name": "Python 3 (ipykernel)",
   "language": "python",
   "name": "python3"
  },
  "language_info": {
   "codemirror_mode": {
    "name": "ipython",
    "version": 3
   },
   "file_extension": ".py",
   "mimetype": "text/x-python",
   "name": "python",
   "nbconvert_exporter": "python",
   "pygments_lexer": "ipython3",
   "version": "3.9.12"
  },
  "toc": {
   "base_numbering": 1,
   "nav_menu": {},
   "number_sections": true,
   "sideBar": true,
   "skip_h1_title": false,
   "title_cell": "Table of Contents",
   "title_sidebar": "Contents",
   "toc_cell": false,
   "toc_position": {},
   "toc_section_display": true,
   "toc_window_display": false
  },
  "varInspector": {
   "cols": {
    "lenName": 16,
    "lenType": 16,
    "lenVar": 40
   },
   "kernels_config": {
    "python": {
     "delete_cmd_postfix": "",
     "delete_cmd_prefix": "del ",
     "library": "var_list.py",
     "varRefreshCmd": "print(var_dic_list())"
    },
    "r": {
     "delete_cmd_postfix": ") ",
     "delete_cmd_prefix": "rm(",
     "library": "var_list.r",
     "varRefreshCmd": "cat(var_dic_list()) "
    }
   },
   "types_to_exclude": [
    "module",
    "function",
    "builtin_function_or_method",
    "instance",
    "_Feature"
   ],
   "window_display": false
  }
 },
 "nbformat": 4,
 "nbformat_minor": 5
}
