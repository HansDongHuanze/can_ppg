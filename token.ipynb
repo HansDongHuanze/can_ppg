{
 "cells": [
  {
   "cell_type": "code",
   "execution_count": 1,
   "id": "1734bb91",
   "metadata": {},
   "outputs": [
    {
     "name": "stdout",
     "output_type": "stream",
     "text": [
      "[[-1.]\n",
      " [ 3.]]\n",
      "[[ 0.  -3.  -4. ]\n",
      " [ 0.5  3.   4. ]]\n",
      "[[ 4.75       -3.          3.        ]\n",
      " [-0.5         1.         -0.66666667]\n",
      " [-1.25        2.          0.33333333]]\n"
     ]
    }
   ],
   "source": [
    "import numpy as np\n",
    "# numpy.linalg模块包含线性代数的函数。使用这个模块，可以计算逆矩阵、求特征值、解线性方程组以及求解行列式等\n",
    "from numpy.linalg import *\n",
    "\n",
    "p1 = np.array([[1,2],[3,4]])\n",
    "y = np.array([[5],[9]])\n",
    "print(solve(p1,y))\n",
    "p2 = np.array([[1,3,4],[2,3,4]])\n",
    "print(solve(p1,p2))\n",
    "p3 = np.array([[1,0,3],[2,5,4],[3,4,5]])\n",
    "p4 = np.array([[1,3,4],[2,7,4],[6,5,8]])\n",
    "print(solve(p3,p4))"
   ]
  },
  {
   "cell_type": "code",
   "execution_count": 4,
   "id": "8a46a8f5",
   "metadata": {},
   "outputs": [],
   "source": [
    "p1 = np.random.rand(4,4)\n",
    "p2 = np.random.rand(4,2)\n",
    "p3 = solve(p1, p2)"
   ]
  },
  {
   "cell_type": "code",
   "execution_count": 6,
   "id": "33b042cb",
   "metadata": {},
   "outputs": [
    {
     "data": {
      "text/plain": [
       "array([[0.4664222 , 0.42573758],\n",
       "       [0.06401935, 0.94296356],\n",
       "       [0.40325476, 0.03986015],\n",
       "       [0.13993707, 0.2593246 ]])"
      ]
     },
     "execution_count": 6,
     "metadata": {},
     "output_type": "execute_result"
    }
   ],
   "source": [
    "np.matmul(p1, p3)"
   ]
  },
  {
   "cell_type": "code",
   "execution_count": 7,
   "id": "933d505d",
   "metadata": {},
   "outputs": [
    {
     "data": {
      "text/plain": [
       "array([[0.4664222 , 0.42573758],\n",
       "       [0.06401935, 0.94296356],\n",
       "       [0.40325476, 0.03986015],\n",
       "       [0.13993707, 0.2593246 ]])"
      ]
     },
     "execution_count": 7,
     "metadata": {},
     "output_type": "execute_result"
    }
   ],
   "source": [
    "p2"
   ]
  },
  {
   "cell_type": "code",
   "execution_count": 141,
   "id": "916e9b61",
   "metadata": {},
   "outputs": [],
   "source": [
    "poly1 = 8\n",
    "poly2 = 6\n",
    "p1 = np.random.rand(poly1, poly2)\n",
    "p2 = np.random.rand(poly2, 1)"
   ]
  },
  {
   "cell_type": "code",
   "execution_count": 142,
   "id": "6ebc36f6",
   "metadata": {},
   "outputs": [],
   "source": [
    "diff = poly1 - poly2\n",
    "randx = np.random.rand(diff,)\n",
    "p1temp = p1[diff:,]\n",
    "p2temp = p2"
   ]
  },
  {
   "cell_type": "code",
   "execution_count": 143,
   "id": "58657a71",
   "metadata": {},
   "outputs": [],
   "source": [
    "for i in range(diff):\n",
    "    p2temp -= np.transpose(np.expand_dims(np.dot(p1[i], randx[i]), axis=0))"
   ]
  },
  {
   "cell_type": "code",
   "execution_count": 144,
   "id": "6afb114d",
   "metadata": {},
   "outputs": [],
   "source": [
    "x2 = solve(p1temp, p2temp)"
   ]
  },
  {
   "cell_type": "code",
   "execution_count": 146,
   "id": "5566889b",
   "metadata": {},
   "outputs": [
    {
     "data": {
      "text/plain": [
       "array([0.00562684, 0.03255569])"
      ]
     },
     "execution_count": 146,
     "metadata": {},
     "output_type": "execute_result"
    }
   ],
   "source": [
    "randx"
   ]
  },
  {
   "cell_type": "code",
   "execution_count": 147,
   "id": "8952f309",
   "metadata": {},
   "outputs": [
    {
     "data": {
      "text/plain": [
       "array([[-0.13885633],\n",
       "       [ 0.32463845],\n",
       "       [-0.07508607],\n",
       "       [ 0.80376875],\n",
       "       [-0.82872837],\n",
       "       [ 2.27072163]])"
      ]
     },
     "execution_count": 147,
     "metadata": {},
     "output_type": "execute_result"
    }
   ],
   "source": [
    "x2"
   ]
  },
  {
   "cell_type": "code",
   "execution_count": 149,
   "id": "8398fc49",
   "metadata": {},
   "outputs": [],
   "source": [
    "x = np.concatenate((np.transpose(np.expand_dims(randx, axis=0)), x2))"
   ]
  },
  {
   "cell_type": "code",
   "execution_count": 162,
   "id": "3f88e82e",
   "metadata": {},
   "outputs": [
    {
     "data": {
      "text/plain": [
       "array([[ 0.00562684],\n",
       "       [ 0.03255569],\n",
       "       [-0.13885633],\n",
       "       [ 0.32463845],\n",
       "       [-0.07508607],\n",
       "       [ 0.80376875],\n",
       "       [-0.82872837],\n",
       "       [ 2.27072163]])"
      ]
     },
     "execution_count": 162,
     "metadata": {},
     "output_type": "execute_result"
    }
   ],
   "source": [
    "x"
   ]
  },
  {
   "cell_type": "code",
   "execution_count": 163,
   "id": "d7705421",
   "metadata": {},
   "outputs": [
    {
     "data": {
      "text/plain": [
       "array([[0.41170393, 0.25547382, 0.56855646, 0.58444381, 0.65065264,\n",
       "        0.2542358 ],\n",
       "       [0.89073794, 0.05460775, 0.81375586, 0.17154445, 0.84296302,\n",
       "        0.78346673],\n",
       "       [0.26684038, 0.48332624, 0.88691717, 0.12558318, 0.89654668,\n",
       "        0.25132237],\n",
       "       [0.80278063, 0.47489321, 0.64873296, 0.80911284, 0.99161269,\n",
       "        0.1869123 ],\n",
       "       [0.86196187, 0.5961772 , 0.34281581, 0.06206189, 0.29702153,\n",
       "        0.30479682],\n",
       "       [0.90880211, 0.23052282, 0.23175295, 0.4583192 , 0.89692369,\n",
       "        0.34453065],\n",
       "       [0.4996218 , 0.26109056, 0.71348034, 0.72098536, 0.79754403,\n",
       "        0.41001904],\n",
       "       [0.59525404, 0.0010572 , 0.89596926, 0.80912791, 0.6038902 ,\n",
       "        0.08119908]])"
      ]
     },
     "execution_count": 163,
     "metadata": {},
     "output_type": "execute_result"
    }
   ],
   "source": [
    "p1"
   ]
  },
  {
   "cell_type": "code",
   "execution_count": 167,
   "id": "d4f2afbe",
   "metadata": {},
   "outputs": [],
   "source": [
    "result = []\n",
    "for i in range(poly2):\n",
    "    temp = 0\n",
    "    for j in range(poly1):\n",
    "        temp += x[j][0] * p1[j][i]\n",
    "    result.append(temp)"
   ]
  },
  {
   "cell_type": "code",
   "execution_count": 168,
   "id": "b3b46046",
   "metadata": {},
   "outputs": [
    {
     "data": {
      "text/plain": [
       "[1.8582270453837715,\n",
       " 0.016820881904627532,\n",
       " 1.7208916289426348,\n",
       " 1.8576303398125684,\n",
       " 1.6374650071869352,\n",
       " 0.15134112248362705]"
      ]
     },
     "execution_count": 168,
     "metadata": {},
     "output_type": "execute_result"
    }
   ],
   "source": [
    "result"
   ]
  },
  {
   "cell_type": "code",
   "execution_count": 169,
   "id": "d909e5f4",
   "metadata": {},
   "outputs": [
    {
     "data": {
      "text/plain": [
       "array([[-0.01811202],\n",
       "       [ 0.24697446],\n",
       "       [ 0.54395445],\n",
       "       [ 0.33865197],\n",
       "       [ 0.81140919],\n",
       "       [ 0.18468489]])"
      ]
     },
     "execution_count": 169,
     "metadata": {},
     "output_type": "execute_result"
    }
   ],
   "source": [
    "p2"
   ]
  },
  {
   "cell_type": "code",
   "execution_count": null,
   "id": "73eeb404",
   "metadata": {},
   "outputs": [],
   "source": []
  }
 ],
 "metadata": {
  "kernelspec": {
   "display_name": "Python 3 (ipykernel)",
   "language": "python",
   "name": "python3"
  },
  "language_info": {
   "codemirror_mode": {
    "name": "ipython",
    "version": 3
   },
   "file_extension": ".py",
   "mimetype": "text/x-python",
   "name": "python",
   "nbconvert_exporter": "python",
   "pygments_lexer": "ipython3",
   "version": "3.9.12"
  },
  "toc": {
   "base_numbering": 1,
   "nav_menu": {},
   "number_sections": true,
   "sideBar": true,
   "skip_h1_title": false,
   "title_cell": "Table of Contents",
   "title_sidebar": "Contents",
   "toc_cell": false,
   "toc_position": {},
   "toc_section_display": true,
   "toc_window_display": false
  },
  "varInspector": {
   "cols": {
    "lenName": 16,
    "lenType": 16,
    "lenVar": 40
   },
   "kernels_config": {
    "python": {
     "delete_cmd_postfix": "",
     "delete_cmd_prefix": "del ",
     "library": "var_list.py",
     "varRefreshCmd": "print(var_dic_list())"
    },
    "r": {
     "delete_cmd_postfix": ") ",
     "delete_cmd_prefix": "rm(",
     "library": "var_list.r",
     "varRefreshCmd": "cat(var_dic_list()) "
    }
   },
   "types_to_exclude": [
    "module",
    "function",
    "builtin_function_or_method",
    "instance",
    "_Feature"
   ],
   "window_display": false
  }
 },
 "nbformat": 4,
 "nbformat_minor": 5
}
